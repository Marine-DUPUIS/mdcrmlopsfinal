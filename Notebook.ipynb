{
 "cells": [
  {
   "cell_type": "code",
   "execution_count": 2,
   "metadata": {},
   "outputs": [
    {
     "name": "stderr",
     "output_type": "stream",
     "text": [
      "2024/09/16 21:32:00 WARNING mlflow.models.model: Model logged without a signature and input example. Please set `input_example` parameter when logging the model to auto infer the model signature.\n",
      "2024/09/16 21:32:00 INFO mlflow.tracking._tracking_service.client: 🏃 View run Modèle Régression Logistique at: http://127.0.0.1:6003/#/experiments/540196153384736126/runs/39da0c0dcad44e148a02727690a8979e.\n",
      "2024/09/16 21:32:00 INFO mlflow.tracking._tracking_service.client: 🧪 View experiment at: http://127.0.0.1:6003/#/experiments/540196153384736126.\n",
      "2024/09/16 21:32:00 INFO mlflow.tracking.fluent: Experiment with name 'prediction_defaut_credit_random_forest' does not exist. Creating a new experiment.\n"
     ]
    },
    {
     "name": "stdout",
     "output_type": "stream",
     "text": [
      "Accuracy: 0.9963333333333333\n",
      "AUC: 0.9912754008624999\n",
      "[[2457    2]\n",
      " [   9  532]]\n",
      "              precision    recall  f1-score   support\n",
      "\n",
      "           0       1.00      1.00      1.00      2459\n",
      "           1       1.00      0.98      0.99       541\n",
      "\n",
      "    accuracy                           1.00      3000\n",
      "   macro avg       1.00      0.99      0.99      3000\n",
      "weighted avg       1.00      1.00      1.00      3000\n",
      "\n"
     ]
    },
    {
     "name": "stderr",
     "output_type": "stream",
     "text": [
      "2024/09/16 21:32:04 WARNING mlflow.models.model: Model logged without a signature and input example. Please set `input_example` parameter when logging the model to auto infer the model signature.\n",
      "2024/09/16 21:32:04 INFO mlflow.tracking._tracking_service.client: 🏃 View run Modèle Random Forest at: http://127.0.0.1:6003/#/experiments/212656686080867273/runs/61c44eb2ef934fbb85a1021843a55781.\n",
      "2024/09/16 21:32:04 INFO mlflow.tracking._tracking_service.client: 🧪 View experiment at: http://127.0.0.1:6003/#/experiments/212656686080867273.\n"
     ]
    },
    {
     "name": "stdout",
     "output_type": "stream",
     "text": [
      "Accuracy: 0.9963333333333333\n",
      "AUC: 0.9919962805913469\n",
      "[[2456    3]\n",
      " [   8  533]]\n",
      "              precision    recall  f1-score   support\n",
      "\n",
      "           0       1.00      1.00      1.00      2459\n",
      "           1       0.99      0.99      0.99       541\n",
      "\n",
      "    accuracy                           1.00      3000\n",
      "   macro avg       1.00      0.99      0.99      3000\n",
      "weighted avg       1.00      1.00      1.00      3000\n",
      "\n"
     ]
    }
   ],
   "source": [
    "# Étape 1 : Importer les bibliothèques nécessaires\n",
    "import pandas as pd\n",
    "from sklearn.model_selection import train_test_split\n",
    "from sklearn.preprocessing import StandardScaler\n",
    "from sklearn.linear_model import LogisticRegression\n",
    "from sklearn.ensemble import RandomForestClassifier\n",
    "from sklearn.metrics import accuracy_score, roc_auc_score, confusion_matrix, classification_report\n",
    "import mlflow\n",
    "import mlflow.sklearn\n",
    "import seaborn as sns\n",
    "import matplotlib.pyplot as plt\n",
    "\n",
    "# Étape 2 : Charger les données\n",
    "data = pd.read_csv(r\"C:\\Users\\marin\\Downloads\\Loan_Data.csv\")\n",
    "\n",
    "# Visualisation des premières lignes du dataset\n",
    "data.head()\n",
    "\n",
    "# Étape 3 : Prétraitement des données\n",
    "X = data[['credit_lines_outstanding', 'loan_amt_outstanding', 'total_debt_outstanding', 'income', 'years_employed', 'fico_score']]\n",
    "y = data['default']\n",
    "\n",
    "# Division des données en ensembles d'entraînement et de test\n",
    "X_train, X_test, y_train, y_test = train_test_split(X, y, test_size=0.3, random_state=42)\n",
    "\n",
    "# Normalisation des données\n",
    "scaler = StandardScaler()\n",
    "X_train_scaled = scaler.fit_transform(X_train)\n",
    "X_test_scaled = scaler.transform(X_test)\n",
    "\n",
    "# Étape 4 : Initialiser le serveur MLflow (utilise un port différent)\n",
    "mlflow.set_tracking_uri(\"http://127.0.0.1:6003\")\n",
    "\n",
    "# Étape 5 : Entraîner et enregistrer un modèle de Régression Logistique\n",
    "mlflow.set_experiment(\"prediction_defaut_credit_regression_logistique\")\n",
    "\n",
    "with mlflow.start_run(run_name=\"Modèle Régression Logistique\"):\n",
    "    log_reg = LogisticRegression(solver='lbfgs', max_iter=1000, random_state=42)\n",
    "    log_reg.fit(X_train_scaled, y_train)\n",
    "    \n",
    "    y_pred = log_reg.predict(X_test_scaled)\n",
    "    \n",
    "    # Évaluation du modèle\n",
    "    accuracy = accuracy_score(y_test, y_pred)\n",
    "    auc = roc_auc_score(y_test, y_pred)\n",
    "    \n",
    "    mlflow.log_metric(\"accuracy\", accuracy)\n",
    "    mlflow.log_metric(\"auc\", auc)\n",
    "    \n",
    "    # Enregistrer le modèle dans MLflow\n",
    "    mlflow.sklearn.log_model(log_reg, \"modele_regression_logistique\")\n",
    "\n",
    "    # Afficher quelques métriques\n",
    "    print(f\"Accuracy: {accuracy}\")\n",
    "    print(f\"AUC: {auc}\")\n",
    "    print(confusion_matrix(y_test, y_pred))\n",
    "    print(classification_report(y_test, y_pred))\n",
    "\n",
    "# Étape 6 : Entraîner et enregistrer un modèle Random Forest\n",
    "mlflow.set_experiment(\"prediction_defaut_credit_random_forest\")\n",
    "\n",
    "with mlflow.start_run(run_name=\"Modèle Random Forest\"):\n",
    "    rf = RandomForestClassifier(n_estimators=100, random_state=42)\n",
    "    rf.fit(X_train_scaled, y_train)\n",
    "    \n",
    "    y_pred_rf = rf.predict(X_test_scaled)\n",
    "    \n",
    "    # Évaluation du modèle\n",
    "    accuracy_rf = accuracy_score(y_test, y_pred_rf)\n",
    "    auc_rf = roc_auc_score(y_test, y_pred_rf)\n",
    "    \n",
    "    mlflow.log_metric(\"accuracy\", accuracy_rf)\n",
    "    mlflow.log_metric(\"auc\", auc_rf)\n",
    "    \n",
    "    # Enregistrer le modèle dans MLflow\n",
    "    mlflow.sklearn.log_model(rf, \"modele_random_forest\")\n",
    "    \n",
    "    # Afficher quelques métriques\n",
    "    print(f\"Accuracy: {accuracy_rf}\")\n",
    "    print(f\"AUC: {auc_rf}\")\n",
    "    print(confusion_matrix(y_test, y_pred_rf))\n",
    "    print(classification_report(y_test, y_pred_rf))\n"
   ]
  }
 ],
 "metadata": {
  "kernelspec": {
   "display_name": "Python 3",
   "language": "python",
   "name": "python3"
  },
  "language_info": {
   "codemirror_mode": {
    "name": "ipython",
    "version": 3
   },
   "file_extension": ".py",
   "mimetype": "text/x-python",
   "name": "python",
   "nbconvert_exporter": "python",
   "pygments_lexer": "ipython3",
   "version": "3.11.9"
  }
 },
 "nbformat": 4,
 "nbformat_minor": 2
}
